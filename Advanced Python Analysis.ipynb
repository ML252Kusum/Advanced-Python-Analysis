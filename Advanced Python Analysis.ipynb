{
 "cells": [
  {
   "cell_type": "markdown",
   "id": "acf98fd2-46ad-498c-aefa-ad29675a309a",
   "metadata": {},
   "source": [
    "<------Importing Neccessary Libraries--------->"
   ]
  },
  {
   "cell_type": "code",
   "execution_count": null,
   "id": "6d5b3edf-e087-414b-a0dd-6fc02688e90a",
   "metadata": {},
   "outputs": [],
   "source": [
    "# STEP 1: IMPORTING NECCESSARY LIBRARY------------>"
   ]
  },
  {
   "cell_type": "code",
   "execution_count": 1,
   "id": "b500bad7-4cb6-4d89-8d11-c3ed1179848e",
   "metadata": {},
   "outputs": [],
   "source": [
    "# Here we are going to import all neccessary libraries which is important for the advanced analysis of any datasets\n",
    "\n",
    "import numpy as np\n",
    "import pandas as pd\n",
    "from sklearn.model_selection import train_test_split\n",
    "from sklearn.preprocessing import StandardScaler\n",
    "from sklearn.linear_model import LinearRegression\n",
    "from sklearn.metrics import mean_squared_error,r2_score"
   ]
  },
  {
   "cell_type": "code",
   "execution_count": null,
   "id": "35e1f658-72ad-48a1-ade8-8212a7ef920b",
   "metadata": {},
   "outputs": [],
   "source": [
    "# STEP 2: LOADING DATASET--------------->"
   ]
  },
  {
   "cell_type": "code",
   "execution_count": 2,
   "id": "f06efed7-990d-4e08-ae56-23bc9b6ca6ab",
   "metadata": {},
   "outputs": [
    {
     "data": {
      "text/html": [
       "<div>\n",
       "<style scoped>\n",
       "    .dataframe tbody tr th:only-of-type {\n",
       "        vertical-align: middle;\n",
       "    }\n",
       "\n",
       "    .dataframe tbody tr th {\n",
       "        vertical-align: top;\n",
       "    }\n",
       "\n",
       "    .dataframe thead th {\n",
       "        text-align: right;\n",
       "    }\n",
       "</style>\n",
       "<table border=\"1\" class=\"dataframe\">\n",
       "  <thead>\n",
       "    <tr style=\"text-align: right;\">\n",
       "      <th></th>\n",
       "      <th>Hours_Studied</th>\n",
       "      <th>Scores</th>\n",
       "    </tr>\n",
       "  </thead>\n",
       "  <tbody>\n",
       "    <tr>\n",
       "      <th>0</th>\n",
       "      <td>2.5</td>\n",
       "      <td>21</td>\n",
       "    </tr>\n",
       "    <tr>\n",
       "      <th>1</th>\n",
       "      <td>5.1</td>\n",
       "      <td>47</td>\n",
       "    </tr>\n",
       "    <tr>\n",
       "      <th>2</th>\n",
       "      <td>3.2</td>\n",
       "      <td>27</td>\n",
       "    </tr>\n",
       "    <tr>\n",
       "      <th>3</th>\n",
       "      <td>8.5</td>\n",
       "      <td>75</td>\n",
       "    </tr>\n",
       "    <tr>\n",
       "      <th>4</th>\n",
       "      <td>3.5</td>\n",
       "      <td>30</td>\n",
       "    </tr>\n",
       "    <tr>\n",
       "      <th>5</th>\n",
       "      <td>1.5</td>\n",
       "      <td>20</td>\n",
       "    </tr>\n",
       "    <tr>\n",
       "      <th>6</th>\n",
       "      <td>9.2</td>\n",
       "      <td>88</td>\n",
       "    </tr>\n",
       "    <tr>\n",
       "      <th>7</th>\n",
       "      <td>5.5</td>\n",
       "      <td>60</td>\n",
       "    </tr>\n",
       "    <tr>\n",
       "      <th>8</th>\n",
       "      <td>8.3</td>\n",
       "      <td>81</td>\n",
       "    </tr>\n",
       "    <tr>\n",
       "      <th>9</th>\n",
       "      <td>2.7</td>\n",
       "      <td>25</td>\n",
       "    </tr>\n",
       "    <tr>\n",
       "      <th>10</th>\n",
       "      <td>7.7</td>\n",
       "      <td>85</td>\n",
       "    </tr>\n",
       "    <tr>\n",
       "      <th>11</th>\n",
       "      <td>5.9</td>\n",
       "      <td>62</td>\n",
       "    </tr>\n",
       "    <tr>\n",
       "      <th>12</th>\n",
       "      <td>4.5</td>\n",
       "      <td>41</td>\n",
       "    </tr>\n",
       "    <tr>\n",
       "      <th>13</th>\n",
       "      <td>3.3</td>\n",
       "      <td>42</td>\n",
       "    </tr>\n",
       "    <tr>\n",
       "      <th>14</th>\n",
       "      <td>1.1</td>\n",
       "      <td>17</td>\n",
       "    </tr>\n",
       "    <tr>\n",
       "      <th>15</th>\n",
       "      <td>8.9</td>\n",
       "      <td>95</td>\n",
       "    </tr>\n",
       "    <tr>\n",
       "      <th>16</th>\n",
       "      <td>2.5</td>\n",
       "      <td>30</td>\n",
       "    </tr>\n",
       "    <tr>\n",
       "      <th>17</th>\n",
       "      <td>1.9</td>\n",
       "      <td>24</td>\n",
       "    </tr>\n",
       "    <tr>\n",
       "      <th>18</th>\n",
       "      <td>6.1</td>\n",
       "      <td>67</td>\n",
       "    </tr>\n",
       "    <tr>\n",
       "      <th>19</th>\n",
       "      <td>7.4</td>\n",
       "      <td>69</td>\n",
       "    </tr>\n",
       "  </tbody>\n",
       "</table>\n",
       "</div>"
      ],
      "text/plain": [
       "    Hours_Studied  Scores\n",
       "0             2.5      21\n",
       "1             5.1      47\n",
       "2             3.2      27\n",
       "3             8.5      75\n",
       "4             3.5      30\n",
       "5             1.5      20\n",
       "6             9.2      88\n",
       "7             5.5      60\n",
       "8             8.3      81\n",
       "9             2.7      25\n",
       "10            7.7      85\n",
       "11            5.9      62\n",
       "12            4.5      41\n",
       "13            3.3      42\n",
       "14            1.1      17\n",
       "15            8.9      95\n",
       "16            2.5      30\n",
       "17            1.9      24\n",
       "18            6.1      67\n",
       "19            7.4      69"
      ]
     },
     "execution_count": 2,
     "metadata": {},
     "output_type": "execute_result"
    }
   ],
   "source": [
    "# We can either Load a Dataset by using \" pd.read_csv(\"filename\")\" or can create our own dataset.Here we will create our own Dataset.\n",
    "\n",
    "data={'Hours_Studied':[2.5,5.1,3.2,8.5,3.5,1.5,9.2,5.5,8.3,2.7,7.7,5.9,4.5,3.3,1.1,8.9,2.5,1.9,6.1,7.4],\n",
    "     'Scores':[21,47,27,75,30,20,88,60,81,25,85,62,41,42,17,95,30,24,67,69]}\n",
    "df=pd.DataFrame(data)\n",
    "df"
   ]
  },
  {
   "cell_type": "code",
   "execution_count": null,
   "id": "927d3cb0-b3c4-4503-ace0-7ae6d2c715f2",
   "metadata": {},
   "outputs": [],
   "source": [
    "# STEP 3: EXPLORINGN DATASET----------->"
   ]
  },
  {
   "cell_type": "code",
   "execution_count": 5,
   "id": "27501b89-d7c5-4285-90cb-7a85aab6e58e",
   "metadata": {},
   "outputs": [],
   "source": [
    "# As above we can see our Dataset is created successfully! Now let's exploring the structure of our Dataset."
   ]
  },
  {
   "cell_type": "code",
   "execution_count": 7,
   "id": "3496331a-b7ca-40c3-990e-aab4d45fcfb1",
   "metadata": {},
   "outputs": [
    {
     "data": {
      "text/html": [
       "<div>\n",
       "<style scoped>\n",
       "    .dataframe tbody tr th:only-of-type {\n",
       "        vertical-align: middle;\n",
       "    }\n",
       "\n",
       "    .dataframe tbody tr th {\n",
       "        vertical-align: top;\n",
       "    }\n",
       "\n",
       "    .dataframe thead th {\n",
       "        text-align: right;\n",
       "    }\n",
       "</style>\n",
       "<table border=\"1\" class=\"dataframe\">\n",
       "  <thead>\n",
       "    <tr style=\"text-align: right;\">\n",
       "      <th></th>\n",
       "      <th>Hours_Studied</th>\n",
       "      <th>Scores</th>\n",
       "    </tr>\n",
       "  </thead>\n",
       "  <tbody>\n",
       "    <tr>\n",
       "      <th>0</th>\n",
       "      <td>2.5</td>\n",
       "      <td>21</td>\n",
       "    </tr>\n",
       "    <tr>\n",
       "      <th>1</th>\n",
       "      <td>5.1</td>\n",
       "      <td>47</td>\n",
       "    </tr>\n",
       "    <tr>\n",
       "      <th>2</th>\n",
       "      <td>3.2</td>\n",
       "      <td>27</td>\n",
       "    </tr>\n",
       "    <tr>\n",
       "      <th>3</th>\n",
       "      <td>8.5</td>\n",
       "      <td>75</td>\n",
       "    </tr>\n",
       "    <tr>\n",
       "      <th>4</th>\n",
       "      <td>3.5</td>\n",
       "      <td>30</td>\n",
       "    </tr>\n",
       "  </tbody>\n",
       "</table>\n",
       "</div>"
      ],
      "text/plain": [
       "   Hours_Studied  Scores\n",
       "0            2.5      21\n",
       "1            5.1      47\n",
       "2            3.2      27\n",
       "3            8.5      75\n",
       "4            3.5      30"
      ]
     },
     "execution_count": 7,
     "metadata": {},
     "output_type": "execute_result"
    }
   ],
   "source": [
    "# Displaying the First Few Rows\n",
    "df.head()"
   ]
  },
  {
   "cell_type": "code",
   "execution_count": 9,
   "id": "c406d038-ce04-44b0-bda4-24973eaa01cb",
   "metadata": {},
   "outputs": [
    {
     "data": {
      "text/html": [
       "<div>\n",
       "<style scoped>\n",
       "    .dataframe tbody tr th:only-of-type {\n",
       "        vertical-align: middle;\n",
       "    }\n",
       "\n",
       "    .dataframe tbody tr th {\n",
       "        vertical-align: top;\n",
       "    }\n",
       "\n",
       "    .dataframe thead th {\n",
       "        text-align: right;\n",
       "    }\n",
       "</style>\n",
       "<table border=\"1\" class=\"dataframe\">\n",
       "  <thead>\n",
       "    <tr style=\"text-align: right;\">\n",
       "      <th></th>\n",
       "      <th>Hours_Studied</th>\n",
       "      <th>Scores</th>\n",
       "    </tr>\n",
       "  </thead>\n",
       "  <tbody>\n",
       "    <tr>\n",
       "      <th>count</th>\n",
       "      <td>20.000000</td>\n",
       "      <td>20.000000</td>\n",
       "    </tr>\n",
       "    <tr>\n",
       "      <th>mean</th>\n",
       "      <td>4.965000</td>\n",
       "      <td>50.300000</td>\n",
       "    </tr>\n",
       "    <tr>\n",
       "      <th>std</th>\n",
       "      <td>2.663451</td>\n",
       "      <td>25.941432</td>\n",
       "    </tr>\n",
       "    <tr>\n",
       "      <th>min</th>\n",
       "      <td>1.100000</td>\n",
       "      <td>17.000000</td>\n",
       "    </tr>\n",
       "    <tr>\n",
       "      <th>25%</th>\n",
       "      <td>2.650000</td>\n",
       "      <td>26.500000</td>\n",
       "    </tr>\n",
       "    <tr>\n",
       "      <th>50%</th>\n",
       "      <td>4.800000</td>\n",
       "      <td>44.500000</td>\n",
       "    </tr>\n",
       "    <tr>\n",
       "      <th>75%</th>\n",
       "      <td>7.475000</td>\n",
       "      <td>70.500000</td>\n",
       "    </tr>\n",
       "    <tr>\n",
       "      <th>max</th>\n",
       "      <td>9.200000</td>\n",
       "      <td>95.000000</td>\n",
       "    </tr>\n",
       "  </tbody>\n",
       "</table>\n",
       "</div>"
      ],
      "text/plain": [
       "       Hours_Studied     Scores\n",
       "count      20.000000  20.000000\n",
       "mean        4.965000  50.300000\n",
       "std         2.663451  25.941432\n",
       "min         1.100000  17.000000\n",
       "25%         2.650000  26.500000\n",
       "50%         4.800000  44.500000\n",
       "75%         7.475000  70.500000\n",
       "max         9.200000  95.000000"
      ]
     },
     "execution_count": 9,
     "metadata": {},
     "output_type": "execute_result"
    }
   ],
   "source": [
    "# Summarizing the Statistics of Dataset\n",
    "df.describe()"
   ]
  },
  {
   "cell_type": "code",
   "execution_count": 11,
   "id": "ab70d07e-3442-4134-af1e-ba9f70f8af8a",
   "metadata": {},
   "outputs": [
    {
     "data": {
      "text/plain": [
       "Hours_Studied    0\n",
       "Scores           0\n",
       "dtype: int64"
      ]
     },
     "execution_count": 11,
     "metadata": {},
     "output_type": "execute_result"
    }
   ],
   "source": [
    "# Checking missing values in dataset\n",
    "df.isnull().sum()"
   ]
  },
  {
   "cell_type": "code",
   "execution_count": null,
   "id": "0bc9546f-4c62-480c-b34f-e720e618713d",
   "metadata": {},
   "outputs": [],
   "source": [
    "# STEP 4: DATA PREPROCESSING------------>"
   ]
  },
  {
   "cell_type": "code",
   "execution_count": 14,
   "id": "a8bbe28a-0e15-444c-af7a-d5658cb5296a",
   "metadata": {},
   "outputs": [],
   "source": [
    "# Data Preprocessing prepares data for analysis, which includes spiliting data into features(X) and target(Y),and than into training and testing sets."
   ]
  },
  {
   "cell_type": "code",
   "execution_count": 16,
   "id": "b6ad8326-fc05-49cb-bab1-fd9ddf505f7f",
   "metadata": {},
   "outputs": [
    {
     "name": "stdout",
     "output_type": "stream",
     "text": [
      "Feature Variable 0     2.5\n",
      "1     5.1\n",
      "2     3.2\n",
      "3     8.5\n",
      "4     3.5\n",
      "5     1.5\n",
      "6     9.2\n",
      "7     5.5\n",
      "8     8.3\n",
      "9     2.7\n",
      "10    7.7\n",
      "11    5.9\n",
      "12    4.5\n",
      "13    3.3\n",
      "14    1.1\n",
      "15    8.9\n",
      "16    2.5\n",
      "17    1.9\n",
      "18    6.1\n",
      "19    7.4\n",
      "Name: Hours_Studied, dtype: float64\n",
      "Target Variable 0     21\n",
      "1     47\n",
      "2     27\n",
      "3     75\n",
      "4     30\n",
      "5     20\n",
      "6     88\n",
      "7     60\n",
      "8     81\n",
      "9     25\n",
      "10    85\n",
      "11    62\n",
      "12    41\n",
      "13    42\n",
      "14    17\n",
      "15    95\n",
      "16    30\n",
      "17    24\n",
      "18    67\n",
      "19    69\n",
      "Name: Scores, dtype: int64\n"
     ]
    }
   ],
   "source": [
    "# Spliting the data into Features and Target Variables.\n",
    "x=df['Hours_Studied']\n",
    "y=df['Scores']\n",
    "print(\"Feature Variable\",x)\n",
    "print(\"Target Variable\",y)"
   ]
  },
  {
   "cell_type": "code",
   "execution_count": 18,
   "id": "61739f3a-4463-4c12-ba47-da62b90a39d0",
   "metadata": {},
   "outputs": [],
   "source": [
    "# Spliting the dataset into training and testing sets (80-20)\n",
    "x_train,x_test,y_train,y_test=train_test_split(x,y,test_size=0.2,random_state=42)"
   ]
  },
  {
   "cell_type": "code",
   "execution_count": 20,
   "id": "65d58a12-a01a-4263-b697-bfc2de122967",
   "metadata": {},
   "outputs": [
    {
     "data": {
      "text/plain": [
       "8     8.3\n",
       "5     1.5\n",
       "11    5.9\n",
       "3     8.5\n",
       "18    6.1\n",
       "16    2.5\n",
       "13    3.3\n",
       "2     3.2\n",
       "9     2.7\n",
       "19    7.4\n",
       "4     3.5\n",
       "12    4.5\n",
       "7     5.5\n",
       "10    7.7\n",
       "14    1.1\n",
       "6     9.2\n",
       "Name: Hours_Studied, dtype: float64"
      ]
     },
     "execution_count": 20,
     "metadata": {},
     "output_type": "execute_result"
    }
   ],
   "source": [
    "# Hence Our dataset explit into training and testing sets successfully!!\n",
    "# let's see training feature's data\n",
    "x_train"
   ]
  },
  {
   "cell_type": "code",
   "execution_count": 22,
   "id": "6e37492f-c884-4c25-a4ea-425e20992c24",
   "metadata": {},
   "outputs": [
    {
     "data": {
      "text/plain": [
       "0     2.5\n",
       "17    1.9\n",
       "15    8.9\n",
       "1     5.1\n",
       "Name: Hours_Studied, dtype: float64"
      ]
     },
     "execution_count": 22,
     "metadata": {},
     "output_type": "execute_result"
    }
   ],
   "source": [
    "# Let's see testing feature's data\n",
    "x_test"
   ]
  },
  {
   "cell_type": "code",
   "execution_count": 24,
   "id": "ae784a03-b39e-471b-839c-49f8cb5e9b15",
   "metadata": {},
   "outputs": [
    {
     "data": {
      "text/plain": [
       "8     81\n",
       "5     20\n",
       "11    62\n",
       "3     75\n",
       "18    67\n",
       "16    30\n",
       "13    42\n",
       "2     27\n",
       "9     25\n",
       "19    69\n",
       "4     30\n",
       "12    41\n",
       "7     60\n",
       "10    85\n",
       "14    17\n",
       "6     88\n",
       "Name: Scores, dtype: int64"
      ]
     },
     "execution_count": 24,
     "metadata": {},
     "output_type": "execute_result"
    }
   ],
   "source": [
    "# Let's see training data of Target Variable\n",
    "y_train"
   ]
  },
  {
   "cell_type": "code",
   "execution_count": 26,
   "id": "00cfda65-4d91-42ad-b445-5863a563df46",
   "metadata": {},
   "outputs": [
    {
     "data": {
      "text/plain": [
       "0     21\n",
       "17    24\n",
       "15    95\n",
       "1     47\n",
       "Name: Scores, dtype: int64"
      ]
     },
     "execution_count": 26,
     "metadata": {},
     "output_type": "execute_result"
    }
   ],
   "source": [
    "# let's see testing data of Target variable\n",
    "y_test"
   ]
  },
  {
   "cell_type": "markdown",
   "id": "0a2dd6fd-e2c2-4041-b8cf-0c0225fa946f",
   "metadata": {},
   "source": [
    "<------------Feature Scaling------------->"
   ]
  },
  {
   "cell_type": "code",
   "execution_count": null,
   "id": "357b1f8a-5ba3-4e63-b4c0-b7f17bbaa90e",
   "metadata": {},
   "outputs": [],
   "source": [
    "# STEP 5: FEATURE SCALING--------->"
   ]
  },
  {
   "cell_type": "code",
   "execution_count": 39,
   "id": "8890ecf6-591a-4a33-9d14-2afaab3a9128",
   "metadata": {},
   "outputs": [
    {
     "data": {
      "text/plain": [
       "array([[8.3],\n",
       "       [1.5],\n",
       "       [5.9],\n",
       "       [8.5],\n",
       "       [6.1],\n",
       "       [2.5],\n",
       "       [3.3],\n",
       "       [3.2],\n",
       "       [2.7],\n",
       "       [7.4],\n",
       "       [3.5],\n",
       "       [4.5],\n",
       "       [5.5],\n",
       "       [7.7],\n",
       "       [1.1],\n",
       "       [9.2]])"
      ]
     },
     "execution_count": 39,
     "metadata": {},
     "output_type": "execute_result"
    }
   ],
   "source": [
    "# First Reshaping the x_train array into to 2D array with one column\n",
    "x_train_reshape=np.array(x_train).reshape(-1,1)\n",
    "x_train_reshape"
   ]
  },
  {
   "cell_type": "code",
   "execution_count": 41,
   "id": "6e0c197f-9eba-4d5a-99b4-cb267f97d104",
   "metadata": {},
   "outputs": [
    {
     "data": {
      "text/plain": [
       "array([[2.5],\n",
       "       [1.9],\n",
       "       [8.9],\n",
       "       [5.1]])"
      ]
     },
     "execution_count": 41,
     "metadata": {},
     "output_type": "execute_result"
    }
   ],
   "source": [
    "# Reshaping the x_test array into to 2D array with one column\n",
    "x_test_reshape=np.array(x_test).reshape(-1,1)\n",
    "x_test_reshape"
   ]
  },
  {
   "cell_type": "code",
   "execution_count": 29,
   "id": "f1da0b2f-ac33-4468-a750-adfe543c01e4",
   "metadata": {},
   "outputs": [],
   "source": [
    "# Feature Scaling\n",
    "# Scale the features to ensure that all variables contributes equally to the model."
   ]
  },
  {
   "cell_type": "code",
   "execution_count": 31,
   "id": "f41d9779-8105-48a6-97e1-248a9d81fb14",
   "metadata": {},
   "outputs": [],
   "source": [
    "# Feature Scaling\n",
    "scaler=StandardScaler()"
   ]
  },
  {
   "cell_type": "code",
   "execution_count": 47,
   "id": "0d7321b9-bb79-4d3a-8051-6f5f19178c0f",
   "metadata": {},
   "outputs": [
    {
     "data": {
      "text/plain": [
       "array([[ 1.27426919],\n",
       "       [-1.39703115],\n",
       "       [ 0.3314573 ],\n",
       "       [ 1.35283684],\n",
       "       [ 0.41002496],\n",
       "       [-1.00419287],\n",
       "       [-0.68992224],\n",
       "       [-0.72920607],\n",
       "       [-0.92562521],\n",
       "       [ 0.92071473],\n",
       "       [-0.61135458],\n",
       "       [-0.2185163 ],\n",
       "       [ 0.17432199],\n",
       "       [ 1.03856622],\n",
       "       [-1.55416646],\n",
       "       [ 1.62782364]])"
      ]
     },
     "execution_count": 47,
     "metadata": {},
     "output_type": "execute_result"
    }
   ],
   "source": [
    "# Scaling x_train\n",
    "x_train_scaled=scaler.fit_transform(x_train_reshape)\n",
    "x_train_scaled"
   ]
  },
  {
   "cell_type": "code",
   "execution_count": 51,
   "id": "4598cbee-29a8-4575-9945-2a096e365011",
   "metadata": {},
   "outputs": [
    {
     "data": {
      "text/plain": [
       "array([[-0.76124941],\n",
       "       [-0.97874924],\n",
       "       [ 1.55874878],\n",
       "       [ 0.18124986]])"
      ]
     },
     "execution_count": 51,
     "metadata": {},
     "output_type": "execute_result"
    }
   ],
   "source": [
    "#scaling x_test\n",
    "x_test_scaled=scaler.fit_transform(x_test_reshape)\n",
    "x_test_scaled"
   ]
  },
  {
   "cell_type": "code",
   "execution_count": null,
   "id": "bb13eefe-8662-4ab3-be6b-27bd34d02321",
   "metadata": {},
   "outputs": [],
   "source": [
    "# STEP 6: MODEL TRAINING---------->"
   ]
  },
  {
   "cell_type": "code",
   "execution_count": null,
   "id": "02cf44ed-17e1-4733-b59e-2be66c9ab3e3",
   "metadata": {},
   "outputs": [],
   "source": [
    "# Here we will use linear Regression as an example to predict student's scores based on the hours they studied."
   ]
  },
  {
   "cell_type": "code",
   "execution_count": 55,
   "id": "d74593f4-e187-4816-af8c-e50f63c7268c",
   "metadata": {},
   "outputs": [],
   "source": [
    "# Initializing the Model\n",
    "model=LinearRegression()"
   ]
  },
  {
   "cell_type": "code",
   "execution_count": 57,
   "id": "6124cbef-e458-4bac-a6c5-28a0b4702186",
   "metadata": {},
   "outputs": [
    {
     "data": {
      "text/html": [
       "<style>#sk-container-id-1 {color: black;background-color: white;}#sk-container-id-1 pre{padding: 0;}#sk-container-id-1 div.sk-toggleable {background-color: white;}#sk-container-id-1 label.sk-toggleable__label {cursor: pointer;display: block;width: 100%;margin-bottom: 0;padding: 0.3em;box-sizing: border-box;text-align: center;}#sk-container-id-1 label.sk-toggleable__label-arrow:before {content: \"▸\";float: left;margin-right: 0.25em;color: #696969;}#sk-container-id-1 label.sk-toggleable__label-arrow:hover:before {color: black;}#sk-container-id-1 div.sk-estimator:hover label.sk-toggleable__label-arrow:before {color: black;}#sk-container-id-1 div.sk-toggleable__content {max-height: 0;max-width: 0;overflow: hidden;text-align: left;background-color: #f0f8ff;}#sk-container-id-1 div.sk-toggleable__content pre {margin: 0.2em;color: black;border-radius: 0.25em;background-color: #f0f8ff;}#sk-container-id-1 input.sk-toggleable__control:checked~div.sk-toggleable__content {max-height: 200px;max-width: 100%;overflow: auto;}#sk-container-id-1 input.sk-toggleable__control:checked~label.sk-toggleable__label-arrow:before {content: \"▾\";}#sk-container-id-1 div.sk-estimator input.sk-toggleable__control:checked~label.sk-toggleable__label {background-color: #d4ebff;}#sk-container-id-1 div.sk-label input.sk-toggleable__control:checked~label.sk-toggleable__label {background-color: #d4ebff;}#sk-container-id-1 input.sk-hidden--visually {border: 0;clip: rect(1px 1px 1px 1px);clip: rect(1px, 1px, 1px, 1px);height: 1px;margin: -1px;overflow: hidden;padding: 0;position: absolute;width: 1px;}#sk-container-id-1 div.sk-estimator {font-family: monospace;background-color: #f0f8ff;border: 1px dotted black;border-radius: 0.25em;box-sizing: border-box;margin-bottom: 0.5em;}#sk-container-id-1 div.sk-estimator:hover {background-color: #d4ebff;}#sk-container-id-1 div.sk-parallel-item::after {content: \"\";width: 100%;border-bottom: 1px solid gray;flex-grow: 1;}#sk-container-id-1 div.sk-label:hover label.sk-toggleable__label {background-color: #d4ebff;}#sk-container-id-1 div.sk-serial::before {content: \"\";position: absolute;border-left: 1px solid gray;box-sizing: border-box;top: 0;bottom: 0;left: 50%;z-index: 0;}#sk-container-id-1 div.sk-serial {display: flex;flex-direction: column;align-items: center;background-color: white;padding-right: 0.2em;padding-left: 0.2em;position: relative;}#sk-container-id-1 div.sk-item {position: relative;z-index: 1;}#sk-container-id-1 div.sk-parallel {display: flex;align-items: stretch;justify-content: center;background-color: white;position: relative;}#sk-container-id-1 div.sk-item::before, #sk-container-id-1 div.sk-parallel-item::before {content: \"\";position: absolute;border-left: 1px solid gray;box-sizing: border-box;top: 0;bottom: 0;left: 50%;z-index: -1;}#sk-container-id-1 div.sk-parallel-item {display: flex;flex-direction: column;z-index: 1;position: relative;background-color: white;}#sk-container-id-1 div.sk-parallel-item:first-child::after {align-self: flex-end;width: 50%;}#sk-container-id-1 div.sk-parallel-item:last-child::after {align-self: flex-start;width: 50%;}#sk-container-id-1 div.sk-parallel-item:only-child::after {width: 0;}#sk-container-id-1 div.sk-dashed-wrapped {border: 1px dashed gray;margin: 0 0.4em 0.5em 0.4em;box-sizing: border-box;padding-bottom: 0.4em;background-color: white;}#sk-container-id-1 div.sk-label label {font-family: monospace;font-weight: bold;display: inline-block;line-height: 1.2em;}#sk-container-id-1 div.sk-label-container {text-align: center;}#sk-container-id-1 div.sk-container {/* jupyter's `normalize.less` sets `[hidden] { display: none; }` but bootstrap.min.css set `[hidden] { display: none !important; }` so we also need the `!important` here to be able to override the default hidden behavior on the sphinx rendered scikit-learn.org. See: https://github.com/scikit-learn/scikit-learn/issues/21755 */display: inline-block !important;position: relative;}#sk-container-id-1 div.sk-text-repr-fallback {display: none;}</style><div id=\"sk-container-id-1\" class=\"sk-top-container\"><div class=\"sk-text-repr-fallback\"><pre>LinearRegression()</pre><b>In a Jupyter environment, please rerun this cell to show the HTML representation or trust the notebook. <br />On GitHub, the HTML representation is unable to render, please try loading this page with nbviewer.org.</b></div><div class=\"sk-container\" hidden><div class=\"sk-item\"><div class=\"sk-estimator sk-toggleable\"><input class=\"sk-toggleable__control sk-hidden--visually\" id=\"sk-estimator-id-1\" type=\"checkbox\" checked><label for=\"sk-estimator-id-1\" class=\"sk-toggleable__label sk-toggleable__label-arrow\">LinearRegression</label><div class=\"sk-toggleable__content\"><pre>LinearRegression()</pre></div></div></div></div></div>"
      ],
      "text/plain": [
       "LinearRegression()"
      ]
     },
     "execution_count": 57,
     "metadata": {},
     "output_type": "execute_result"
    }
   ],
   "source": [
    "# Training the model\n",
    "model.fit(x_train_scaled,y_train)"
   ]
  },
  {
   "cell_type": "code",
   "execution_count": null,
   "id": "b097b6e2-1c0b-4660-ae2f-155b21244aab",
   "metadata": {},
   "outputs": [],
   "source": [
    "# STEP 7: MODEL PREDICTION------------>"
   ]
  },
  {
   "cell_type": "code",
   "execution_count": null,
   "id": "581c311f-c017-40ff-acba-cc32e4d7c6a3",
   "metadata": {},
   "outputs": [],
   "source": [
    "# Now we will use the trained model to make prediction on the test data."
   ]
  },
  {
   "cell_type": "code",
   "execution_count": 61,
   "id": "5f649872-bb84-4606-9751-414f4429fb83",
   "metadata": {},
   "outputs": [
    {
     "data": {
      "text/plain": [
       "array([33.36366045, 28.27113486, 87.68393336, 55.43127132])"
      ]
     },
     "execution_count": 61,
     "metadata": {},
     "output_type": "execute_result"
    }
   ],
   "source": [
    "# Predicting the test set results\n",
    "y_pred=model.predict(x_test_scaled)\n",
    "y_pred"
   ]
  },
  {
   "cell_type": "code",
   "execution_count": null,
   "id": "b3a8428c-fc53-432d-9c1d-f5dc4b39b87f",
   "metadata": {},
   "outputs": [],
   "source": [
    "# STEP 8: MODEL EVALUATION----------->"
   ]
  },
  {
   "cell_type": "code",
   "execution_count": null,
   "id": "e5acaa75-23b3-4e89-93f8-b4cd10b636d0",
   "metadata": {},
   "outputs": [],
   "source": [
    "# Evaluating the model's performance using matrics like Mean Square Error(MSE) and R-Squared(r2) score. "
   ]
  },
  {
   "cell_type": "code",
   "execution_count": 65,
   "id": "a09b678d-6cf0-4627-93c2-927046626c05",
   "metadata": {},
   "outputs": [
    {
     "name": "stdout",
     "output_type": "stream",
     "text": [
      "Mean Squared Error: 73.92846496842478\n"
     ]
    }
   ],
   "source": [
    "# model evalution\n",
    "mse=mean_squared_error(y_test,y_pred)\n",
    "print(\"Mean Squared Error:\",mse)"
   ]
  },
  {
   "cell_type": "code",
   "execution_count": 68,
   "id": "55f8ab9a-853b-4b46-976c-29279b07ad37",
   "metadata": {
    "jp-MarkdownHeadingCollapsed": true
   },
   "outputs": [
    {
     "name": "stdout",
     "output_type": "stream",
     "text": [
      "r2 Error: 0.9157210231923907\n"
     ]
    }
   ],
   "source": [
    "r2=r2_score(y_test,y_pred)\n",
    "print(\"r2 Error:\",r2)"
   ]
  },
  {
   "cell_type": "code",
   "execution_count": null,
   "id": "a56829cb-70b5-4500-a1fc-b57ba8b30eb2",
   "metadata": {},
   "outputs": [],
   "source": [
    "# STEP 9: MODEL INTERPRETATION------------>"
   ]
  },
  {
   "cell_type": "code",
   "execution_count": null,
   "id": "b1a1fc3d-1371-4d83-80d4-c845ef15c535",
   "metadata": {},
   "outputs": [],
   "source": [
    "# Model Interpretation: If r2 score is close to 1, the model is performing well in explaining the variance in the target variable."
   ]
  },
  {
   "cell_type": "code",
   "execution_count": null,
   "id": "4c54ecaa-8f83-4cad-8362-122b3a0ed7a5",
   "metadata": {},
   "outputs": [],
   "source": [
    "# Coefficient Interpretation------------>"
   ]
  },
  {
   "cell_type": "code",
   "execution_count": 75,
   "id": "35afbb31-791a-48c6-a081-f4027905c731",
   "metadata": {},
   "outputs": [
    {
     "name": "stdout",
     "output_type": "stream",
     "text": [
      "Intercept:51.18749999999999\n",
      "Slope:23.41392903085361\n"
     ]
    }
   ],
   "source": [
    "print(f'Intercept:{model.intercept_}')\n",
    "print(f'Slope:{model.coef_[0]}')"
   ]
  },
  {
   "cell_type": "code",
   "execution_count": null,
   "id": "4aba6537-2cec-4bf5-8b09-b2e07e11e56c",
   "metadata": {},
   "outputs": [],
   "source": [
    "# STEP 10: VISUALISATION--------->"
   ]
  },
  {
   "cell_type": "code",
   "execution_count": null,
   "id": "83808ca9-6eda-4482-8445-ec83db9d7d97",
   "metadata": {},
   "outputs": [],
   "source": [
    "# Here we are going to visualized the relationship between the features and the predicted target variable to better understand the model's performance."
   ]
  },
  {
   "cell_type": "code",
   "execution_count": 77,
   "id": "bdc59ac6-4a13-4318-8885-3d1883838b17",
   "metadata": {},
   "outputs": [],
   "source": [
    "# Importing library for visualization\n",
    "import matplotlib.pyplot as plt"
   ]
  },
  {
   "cell_type": "code",
   "execution_count": 79,
   "id": "a4b8be51-a263-4545-8af8-242871002b57",
   "metadata": {},
   "outputs": [
    {
     "data": {
      "image/png": "[encoded data removed]",
      "text/plain": [
       "<Figure size 640x480 with 1 Axes>"
      ]
     },
     "metadata": {},
     "output_type": "display_data"
    }
   ],
   "source": [
    "# Ploting the results\n",
    "plt.scatter(x_test,y_test,color='red')\n",
    "plt.plot(x_test,y_pred,color='blue')\n",
    "plt.title('Hours Studied Vs Scores')\n",
    "plt.xlabel('Hours Studied')\n",
    "plt.ylabel('Scores')\n",
    "plt.show()"
   ]
  },
  {
   "cell_type": "code",
   "execution_count": null,
   "id": "0c584366-768f-4339-8adc-bc980a8524b1",
   "metadata": {},
   "outputs": [],
   "source": [
    "# CONCLUSION:\n",
    "# RED DOTS(SCATTER PLOT): Each red dot represents an actual data point from our test set.\n",
    "# BLUE LINE(REGRESSION): The blue line is predicted regression line from our model. This line represents the best fit according to linear regression\n",
    "# model, which predicts the scores based on the hours studied.\n",
    "# POSITIVE CORRELATION: The upward slop of blue line suggets a positive correlation between hours studied and scores.\n",
    "# MODEL FIT: The red points are close to the line,indicating that our linear regression model fits the data relatively well."
   ]
  },
  {
   "cell_type": "code",
   "execution_count": null,
   "id": "65fb84c3-e8a0-4887-b221-0f6b414cbd90",
   "metadata": {},
   "outputs": [],
   "source": [
    "# STEP 11: FUNCTION FOR USER INPUT TO PREDICT SCORE BASED ON STUDY HOURS"
   ]
  },
  {
   "cell_type": "code",
   "execution_count": 87,
   "id": "e14abdaa-6021-4d59-a154-8f1797009c4f",
   "metadata": {},
   "outputs": [],
   "source": [
    "def predict_score(Hours_Studied):\n",
    "    hours_array=np.array([[Hours_Studied]])\n",
    "    predicted_score=model.predict(hours_array)\n",
    "    return predicted_score[0]"
   ]
  },
  {
   "cell_type": "code",
   "execution_count": 93,
   "id": "eec8ae1a-45cb-4e7d-99c0-b467591399dc",
   "metadata": {},
   "outputs": [
    {
     "name": "stdin",
     "output_type": "stream",
     "text": [
      "Enter the number of hours studied: 10.0\n"
     ]
    },
    {
     "name": "stdout",
     "output_type": "stream",
     "text": [
      "Predicted Score for 10.0 hours of study: 285.33\n"
     ]
    }
   ],
   "source": [
    "# predicting score for a specific number\n",
    "input_hours=float(input('Enter the number of hours studied:'))\n",
    "predicted_score=predict_score(input_hours)\n",
    "print(f\"Predicted Score for {input_hours} hours of study: {predicted_score:.2f}\")"
   ]
  },
  {
   "cell_type": "code",
   "execution_count": null,
   "id": "c1168304-7731-449e-9405-2beab61d409c",
   "metadata": {},
   "outputs": [],
   "source": []
  }
 ],
 "metadata": {
  "kernelspec": {
   "display_name": "Python 3 (ipykernel)",
   "language": "python",
   "name": "python3"
  },
  "language_info": {
   "codemirror_mode": {
    "name": "ipython",
    "version": 3
   },
   "file_extension": ".py",
   "mimetype": "text/x-python",
   "name": "python",
   "nbconvert_exporter": "python",
   "pygments_lexer": "ipython3",
   "version": "3.11.7"
  }
 },
 "nbformat": 4,
 "nbformat_minor": 5
}
